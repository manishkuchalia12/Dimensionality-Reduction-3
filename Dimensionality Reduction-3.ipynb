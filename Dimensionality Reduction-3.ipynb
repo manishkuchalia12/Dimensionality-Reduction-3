{
 "cells": [
  {
   "cell_type": "markdown",
   "id": "92c1563e-23a1-4a73-89dc-c0c5948f6317",
   "metadata": {},
   "source": [
    "Q1. What are Eigenvalues and Eigenvectors? How are they related to the Eigen-Decomposition approach?\n",
    "Explain with an example."
   ]
  },
  {
   "cell_type": "code",
   "execution_count": null,
   "id": "95f9248a-3856-472d-9e51-b3038c2887e5",
   "metadata": {},
   "outputs": [],
   "source": [
    "import numpy as np\n",
    "\n",
    "# Example matrix\n",
    "A = np.array([[4, 1],\n",
    "              [2, 3]])\n",
    "\n",
    "# Calculate eigenvalues and eigenvectors\n",
    "eigenvalues, eigenvectors = np.linalg.eig(A)\n",
    "\n",
    "# Print eigenvalues and eigenvectors\n",
    "print(\"Eigenvalues:\")\n",
    "print(eigenvalues)\n",
    "print(\"\\nEigenvectors:\")\n",
    "print(eigenvectors)\n",
    "\n",
    "# Check the validity of eigenvalue-eigenvector equation for each pair\n",
    "for i in range(len(eigenvalues)):\n",
    "    eigenvalue = eigenvalues[i]\n",
    "    eigenvector = eigenvectors[:, i]\n",
    "    result = np.dot(A, eigenvector)\n",
    "\n",
    "    # Check if A * eigenvector = eigenvalue * eigenvector\n",
    "    if np.allclose(result, eigenvalue * eigenvector):\n",
    "        print(f\"\\nEigenvalue {eigenvalue} is valid with Eigenvector:\")\n",
    "        print(eigenvector)\n",
    "    else:\n",
    "        print(\"\\nEigenvalue-eigenvector equation is not satisfied.\")\n",
    "\n",
    "# Eigen-decomposition\n",
    "P = eigenvectors\n",
    "Lambda = np.diag(eigenvalues)\n",
    "A_reconstructed = np.dot(np.dot(P, Lambda), np.linalg.inv(P))\n",
    "\n",
    "print(\"\\nOriginal Matrix A:\")\n",
    "print(A)\n",
    "print(\"\\nReconstructed Matrix A (from eigen-decomposition):\")\n",
    "print(A_reconstructed)\n"
   ]
  },
  {
   "cell_type": "markdown",
   "id": "ab2d0bfb-587f-469f-9ab4-ab051c09caba",
   "metadata": {},
   "source": [
    "Q2. What is eigen decomposition and what is its significance in linear algebra?"
   ]
  },
  {
   "cell_type": "code",
   "execution_count": null,
   "id": "1fb7e032-0992-4815-9191-dcaf5e2291ec",
   "metadata": {},
   "outputs": [],
   "source": [
    "import numpy as np\n",
    "\n",
    "# Example matrix\n",
    "A = np.array([[4, 1],\n",
    "              [2, 3]])\n",
    "\n",
    "# Calculate eigenvalues and eigenvectors\n",
    "eigenvalues, eigenvectors = np.linalg.eig(A)\n",
    "\n",
    "# Eigen decomposition\n",
    "P = eigenvectors\n",
    "Lambda = np.diag(eigenvalues)\n",
    "\n",
    "# Reconstruct the original matrix A\n",
    "A_reconstructed = np.dot(np.dot(P, Lambda), np.linalg.inv(P))\n",
    "\n",
    "# Print results\n",
    "print(\"Original Matrix A:\")\n",
    "print(A)\n",
    "\n",
    "print(\"\\nEigenvalues:\")\n",
    "print(eigenvalues)\n",
    "\n",
    "print(\"\\nEigenvectors:\")\n",
    "print(eigenvectors)\n",
    "\n",
    "print(\"\\nMatrix P (Eigenvectors matrix):\")\n",
    "print(P)\n",
    "\n",
    "print(\"\\nMatrix Lambda (Diagonal matrix of eigenvalues):\")\n",
    "print(Lambda)\n",
    "\n",
    "print(\"\\nReconstructed Matrix A (from eigen-decomposition):\")\n",
    "print(A_reconstructed)\n"
   ]
  },
  {
   "cell_type": "markdown",
   "id": "d49c8c9f-4341-48d2-8245-84a9e5789e69",
   "metadata": {},
   "source": [
    "Q3. What are the conditions that must be satisfied for a square matrix to be diagonalizable using the\n",
    "Eigen-Decomposition approach? Provide a brief proof to support your answer."
   ]
  },
  {
   "cell_type": "code",
   "execution_count": null,
   "id": "80158859-2e95-4784-a085-82e0c635d0fd",
   "metadata": {},
   "outputs": [],
   "source": [
    "import numpy as np\n",
    "\n",
    "def is_diagonalizable(matrix):\n",
    "    eigenvalues, eigenvectors = np.linalg.eig(matrix)\n",
    "    \n",
    "    # Check if the matrix has n linearly independent eigenvectors\n",
    "    if np.linalg.matrix_rank(eigenvectors) == matrix.shape[0]:\n",
    "        return True\n",
    "    else:\n",
    "        return False\n",
    "\n",
    "# Example matrix\n",
    "A_diagonalizable = np.array([[4, 1],\n",
    "                             [2, 3]])\n",
    "\n",
    "A_non_diagonalizable = np.array([[1, 1],\n",
    "                                 [0, 1]])\n",
    "\n",
    "# Check diagonalizability\n",
    "print(\"Matrix A_diagonalizable:\")\n",
    "print(A_diagonalizable)\n",
    "print(\"Is diagonalizable:\", is_diagonalizable(A_diagonalizable))\n",
    "\n",
    "print(\"\\nMatrix A_non_diagonalizable:\")\n",
    "print(A_non_diagonalizable)\n",
    "print(\"Is diagonalizable:\", is_diagonalizable(A_non_diagonalizable))\n"
   ]
  },
  {
   "cell_type": "markdown",
   "id": "792da946-7a47-46c6-8608-9d8499198d30",
   "metadata": {},
   "source": [
    "Q4. What is the significance of the spectral theorem in the context of the Eigen-Decomposition approach?\n",
    "How is it related to the diagonalizability of a matrix? Explain with an example."
   ]
  },
  {
   "cell_type": "code",
   "execution_count": null,
   "id": "dbd3ab59-ef2d-43f6-b0d5-e2b51a2e5320",
   "metadata": {},
   "outputs": [],
   "source": [
    "import numpy as np\n",
    "\n",
    "# Example symmetric matrix\n",
    "A_symmetric = np.array([[3, 1, 1],\n",
    "                        [1, 4, 2],\n",
    "                        [1, 2, 5]])\n",
    "\n",
    "# Check if the matrix is symmetric\n",
    "is_symmetric = np.allclose(A_symmetric, A_symmetric.T)\n",
    "\n",
    "if is_symmetric:\n",
    "    # Eigen decomposition for symmetric matrix\n",
    "    eigenvalues, eigenvectors = np.linalg.eigh(A_symmetric)\n",
    "\n",
    "    # Verify orthogonality of eigenvectors\n",
    "    is_orthogonal = np.allclose(np.dot(eigenvectors.T, eigenvectors), np.eye(A_symmetric.shape[0]))\n",
    "\n",
    "    if is_orthogonal:\n",
    "        # Diagonalization\n",
    "        P = eigenvectors\n",
    "        Lambda = np.diag(eigenvalues)\n",
    "        A_reconstructed = np.dot(np.dot(P, Lambda), P.T)\n",
    "\n",
    "        print(\"Original Symmetric Matrix A:\")\n",
    "        print(A_symmetric)\n",
    "        print(\"\\nEigenvalues:\")\n",
    "        print(eigenvalues)\n",
    "        print(\"\\nEigenvectors (Orthogonal Matrix P):\")\n",
    "        print(eigenvectors)\n",
    "        print(\"\\nReconstructed Matrix A (from eigen-decomposition):\")\n",
    "        print(A_reconstructed)\n",
    "    else:\n",
    "        print(\"Eigenvectors are not orthogonal.\")\n",
    "else:\n",
    "    print(\"The matrix is not symmetric.\")\n"
   ]
  },
  {
   "cell_type": "markdown",
   "id": "54799d54-b369-4e18-a51b-f281afdc2166",
   "metadata": {},
   "source": [
    "Q5. How do you find the eigenvalues of a matrix and what do they represent?"
   ]
  },
  {
   "cell_type": "code",
   "execution_count": null,
   "id": "a4617074-9418-4e6b-967d-32b1ee307c7a",
   "metadata": {},
   "outputs": [],
   "source": [
    "import numpy as np\n",
    "\n",
    "# Example matrix\n",
    "A = np.array([[4, 1],\n",
    "              [2, 3]])\n",
    "\n",
    "# Calculate eigenvalues\n",
    "eigenvalues = np.linalg.eigvals(A)\n",
    "\n",
    "# Print eigenvalues\n",
    "print(\"Eigenvalues:\")\n",
    "print(eigenvalues)\n"
   ]
  },
  {
   "cell_type": "markdown",
   "id": "0d5ed1ea-c139-47d2-90b1-7dba08fc3673",
   "metadata": {},
   "source": [
    "Q6. What are eigenvectors and how are they related to eigenvalues?"
   ]
  },
  {
   "cell_type": "code",
   "execution_count": null,
   "id": "aa1a1905-cfac-4eec-b87b-6df7470481f7",
   "metadata": {},
   "outputs": [],
   "source": [
    "import numpy as np\n",
    "\n",
    "# Example matrix\n",
    "A = np.array([[4, 1],\n",
    "              [2, 3]])\n",
    "\n",
    "# Calculate eigenvalues and eigenvectors\n",
    "eigenvalues, eigenvectors = np.linalg.eig(A)\n",
    "\n",
    "# Print eigenvectors\n",
    "print(\"Eigenvectors:\")\n",
    "print(eigenvectors)\n"
   ]
  },
  {
   "cell_type": "markdown",
   "id": "93fae2be-4f04-4986-a5f1-e6ce22a4e8f1",
   "metadata": {},
   "source": [
    "Q7. Can you explain the geometric interpretation of eigenvectors and eigenvalues?"
   ]
  },
  {
   "cell_type": "code",
   "execution_count": null,
   "id": "ef522e19-08af-4ce0-a6a9-728b88b0ac00",
   "metadata": {},
   "outputs": [],
   "source": [
    "import numpy as np\n",
    "import matplotlib.pyplot as plt\n",
    "\n",
    "# Example 2x2 matrix\n",
    "A = np.array([[2, 1],\n",
    "              [1, 2]])\n",
    "\n",
    "# Calculate eigenvalues and eigenvectors\n",
    "eigenvalues, eigenvectors = np.linalg.eig(A)\n",
    "\n",
    "# Create a unit circle\n",
    "theta = np.linspace(0, 2 * np.pi, 100)\n",
    "circle = np.array([np.cos(theta), np.sin(theta)])\n",
    "\n",
    "# Apply the matrix transformation to the unit circle\n",
    "transformed_circle = np.dot(A, circle)\n",
    "\n",
    "# Plot the unit circle and its transformation\n",
    "plt.figure(figsize=(8, 8))\n",
    "plt.plot(circle[0], circle[1], label='Unit Circle', linestyle='--', color='blue')\n",
    "plt.plot(transformed_circle[0], transformed_circle[1], label='Transformed Circle', color='red')\n",
    "\n",
    "# Plot eigenvectors\n",
    "origin = np.zeros_like(eigenvalues)\n",
    "plt.quiver(*origin, *eigenvectors[:, 0], angles='xy', scale_units='xy', scale=1, color='green', label='Eigenvector 1')\n",
    "plt.quiver(*origin, *eigenvectors[:, 1], angles='xy', scale_units='xy', scale=1, color='orange', label='Eigenvector 2')\n",
    "\n",
    "plt.title('Geometric Interpretation of Eigenvectors and Eigenvalues')\n",
    "plt.xlabel('X-axis')\n",
    "plt.ylabel('Y-axis')\n",
    "plt.axhline(0, color='black',linewidth=0.5)\n",
    "plt.axvline(0, color='black',linewidth=0.5)\n",
    "plt.grid(color = 'gray', linestyle = '--', linewidth = 0.5)\n",
    "plt.legend()\n",
    "plt.show()\n"
   ]
  },
  {
   "cell_type": "markdown",
   "id": "293cd8d2-3548-4251-a176-97ee36d5ba2a",
   "metadata": {},
   "source": [
    "Q8. What are some real-world applications of eigen decomposition?\n",
    "Ans:-Eigen decomposition has numerous real-world applications across various fields. Here are some examples:\r\n",
    "\r\n",
    "Principal Component Analysis (PCA):\r\n",
    "\r\n",
    "In data analysis and machine learning, PCA utilizes eigen decomposition to transform data into a new coordinate system, where the principal components (eigenvectors) capture the maximum variance. This technique is used for dimensionality reduction and feature extraction.\r\n",
    "Image Compression:\r\n",
    "\r\n",
    "Eigen decomposition is applied in image compression techniques like Singular Value Decomposition (SVD). It helps represent images in a more compact form by focusing on the most significant components.\r\n",
    "Google's PageRank Algorithm:\r\n",
    "\r\n",
    "PageRank, used by Google to rank web pages, involves the computation of the dominant eigenvector of the hyperlink matrix. The eigenvector provides a ranking of web pages based on their connectivity.\r\n",
    "Quantum Mechanics:\r\n",
    "\r\n",
    "In quantum mechanics, eigenvectors and eigenvalues play a crucial role in representing states and observables of quantum systems. They are used to describe the quantized properties of particles.\r\n",
    "Vibrations in Structural Engineering:\r\n",
    "\r\n",
    "Eigen decomposition is applied to study vibrations in structural engineering. It helps determine the natural frequencies and modes of vibration for structures, aiding in design and analysis.\r\n",
    "Control Systems:\r\n",
    "\r\n",
    "Eigenvalues and eigenvectors are used in control theory to analyze the stability and response of dynamic systems. They help understand the behavior of the system under different conditions.\r\n",
    "Chemical Kinetics:\r\n",
    "\r\n",
    "In chemistry, eigen decomposition is applied in the analysis of chemical reaction rates. The eigenvalues represent the rate constants, and eigenvectors describe the reaction pathways."
   ]
  }
 ],
 "metadata": {
  "kernelspec": {
   "display_name": "Python 3 (ipykernel)",
   "language": "python",
   "name": "python3"
  },
  "language_info": {
   "codemirror_mode": {
    "name": "ipython",
    "version": 3
   },
   "file_extension": ".py",
   "mimetype": "text/x-python",
   "name": "python",
   "nbconvert_exporter": "python",
   "pygments_lexer": "ipython3",
   "version": "3.12.0"
  }
 },
 "nbformat": 4,
 "nbformat_minor": 5
}
